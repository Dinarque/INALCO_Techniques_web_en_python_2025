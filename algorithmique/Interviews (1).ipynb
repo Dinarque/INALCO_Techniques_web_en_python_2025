{
  "nbformat": 4,
  "nbformat_minor": 0,
  "metadata": {
    "colab": {
      "provenance": [],
      "authorship_tag": "ABX9TyNqB1bj/LXfOXXTHd1DOQoY",
      "include_colab_link": true
    },
    "kernelspec": {
      "name": "python3",
      "display_name": "Python 3"
    },
    "language_info": {
      "name": "python"
    }
  },
  "cells": [
    {
      "cell_type": "markdown",
      "metadata": {
        "id": "view-in-github",
        "colab_type": "text"
      },
      "source": [
        "<a href=\"https://colab.research.google.com/github/Dinarque/INALCO_Inalco_M2_langage_de_scripts_2024_eleves/blob/main/algorithmique/Interviews.ipynb\" target=\"_parent\"><img src=\"https://colab.research.google.com/assets/colab-badge.svg\" alt=\"Open In Colab\"/></a>"
      ]
    },
    {
      "cell_type": "markdown",
      "source": [
        "# Problème 1 :  Somme de deux nombres dans une liste\n",
        "\n",
        "Given an array of integers nums and an integer target, return indices of the two numbers such that they add up to target.\n",
        "\n",
        "You may assume that each input would have exactly one solution, and you may not use the same element twice.\n",
        "\n",
        "You can return the answer in any order.\n",
        "\n",
        "Do not use the list.index(obj) function"
      ],
      "metadata": {
        "id": "1TjSEb8gt8zq"
      }
    },
    {
      "cell_type": "markdown",
      "source": [
        "# Solution 1 : Force brute"
      ],
      "metadata": {
        "id": "UaV6VN3KuGMk"
      }
    },
    {
      "cell_type": "code",
      "execution_count": null,
      "metadata": {
        "id": "ARIyzhwvt6Qn"
      },
      "outputs": [],
      "source": [
        " def twoSum(self, nums: List[int], target: int) -> List[int]:\n",
        "        for i in range(len(nums)):\n",
        "            for j in range(i + 1, len(nums)):\n",
        "                if nums[j]+ nums[i] == target :\n",
        "                    return [i, j]\n",
        "\n",
        "        return []"
      ]
    },
    {
      "cell_type": "markdown",
      "source": [
        "# Solution 2 : Utiliser un dictionnaire"
      ],
      "metadata": {
        "id": "2xIc3VOEuYqs"
      }
    },
    {
      "cell_type": "code",
      "source": [
        "def twoSum(self, nums: List[int], target: int) -> List[int]:\n",
        "\n",
        "        # construction d'un dictionnaire mappant les éléments de la liste à leur indice\n",
        "        num_to_rank = dict()\n",
        "        for i in range(len(nums)):\n",
        "            num_to_rank[nums[i]] = i\n",
        "\n",
        "\n",
        "        for i in range(len(nums)):\n",
        "            complement = target - nums[i]\n",
        "            if complement in num_to_rank and num_to_rank[complement] != i: # pas de doublon\n",
        "                return [i, num_to_rank[complement]]\n",
        "\n",
        "        return []"
      ],
      "metadata": {
        "id": "1cmXsUmGuXh1"
      },
      "execution_count": null,
      "outputs": []
    },
    {
      "cell_type": "markdown",
      "source": [
        "# Solution 3 : Optimisation de la mémoire"
      ],
      "metadata": {
        "id": "Kr7BADXowaHd"
      }
    },
    {
      "cell_type": "code",
      "source": [
        "def twoSum(self, nums: List[int], target: int) -> List[int]:\n",
        "\n",
        "        # la construction du dictionnaire se fait à la volée, économisant ainsi un peu d'espace mémoire\n",
        "        num_to_rank = dict()\n",
        "        for i in range(len(nums)):\n",
        "            complement = target - nums[i]\n",
        "            if complement in num_to_rank:\n",
        "                return [i, num_to_rank[complement]]\n",
        "            num_to_rank[nums[i]] = i\n",
        "\n",
        "        return []"
      ],
      "metadata": {
        "id": "0y6USk0Mwewa"
      },
      "execution_count": null,
      "outputs": []
    }
  ]
}