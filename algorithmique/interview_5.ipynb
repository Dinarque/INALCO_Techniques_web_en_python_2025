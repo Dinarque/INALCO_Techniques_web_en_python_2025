{
  "nbformat": 4,
  "nbformat_minor": 0,
  "metadata": {
    "colab": {
      "provenance": [],
      "authorship_tag": "ABX9TyMHgjVtFdT3g27mIQpzpqY4",
      "include_colab_link": true
    },
    "kernelspec": {
      "name": "python3",
      "display_name": "Python 3"
    },
    "language_info": {
      "name": "python"
    }
  },
  "cells": [
    {
      "cell_type": "markdown",
      "metadata": {
        "id": "view-in-github",
        "colab_type": "text"
      },
      "source": [
        "<a href=\"https://colab.research.google.com/github/Dinarque/INALCO_Inalco_M2_langage_de_scripts_2024_eleves/blob/main/algorithmique/interview_5.ipynb\" target=\"_parent\"><img src=\"https://colab.research.google.com/assets/colab-badge.svg\" alt=\"Open In Colab\"/></a>"
      ]
    },
    {
      "cell_type": "markdown",
      "source": [
        "# Interview 5 : regrouper les anagrames\n",
        "\n",
        "\n",
        "Given an array of strings strs, group the\n",
        "anagrams\n",
        " together. You can return the answer in any order.\n",
        "\n",
        "\n",
        " Example 1:\n",
        "\n",
        "Input: strs = [\"eat\",\"tea\",\"tan\",\"ate\",\"nat\",\"bat\"]\n",
        "\n",
        "Output: [[\"bat\"],[\"nat\",\"tan\"],[\"ate\",\"eat\",\"tea\"]]\n",
        "\n",
        "Explanation:\n",
        "\n",
        "There is no string in strs that can be rearranged to form \"bat\".\n",
        "The strings \"nat\" and \"tan\" are anagrams as they can be rearranged to form each other.\n",
        "The strings \"ate\", \"eat\", and \"tea\" are anagrams as they can be rearranged to form each other.\n",
        "Example 2:\n",
        "\n",
        "Input: strs = [\"\"]\n",
        "\n",
        "Output: [[\"\"]]\n",
        "\n",
        "Example 3:\n",
        "\n",
        "Input: strs = [\"a\"]\n",
        "\n",
        "Output: [[\"a\"]]\n",
        "\n"
      ],
      "metadata": {
        "id": "8Qzy5nbdToHn"
      }
    },
    {
      "cell_type": "markdown",
      "source": [
        "# 1) procédure simple\n",
        "\n",
        "def is_anagram(w1, w2) :\n",
        "\n",
        "            if not  len(w1) == len(w2) : return False\n",
        "            for letter in w2 :\n",
        "                if letter not in w1 :\n",
        "                    return False\n",
        "            return True\n",
        "\n",
        "\n",
        "\n",
        "class Solution(object):\n",
        "    def groupAnagrams(self, strs):\n",
        "        \"\"\"\n",
        "        :type strs: List[str]\n",
        "        :rtype: List[List[str]]\n",
        "        \"\"\"\n",
        "        \n",
        "\n",
        "        anagram_lists = [[strs[0]]]\n",
        "        for word in strs[1:]:\n",
        "\n",
        "            found = False\n",
        "            for group in anagram_lists :\n",
        "                if is_anagram(word, group[0]) :\n",
        "                    group.append(word)\n",
        "                    found = True\n",
        "                    break\n",
        "            if not found :\n",
        "                anagram_lists.append([word])\n",
        "                \n",
        "\n",
        "        return anagram_lists\n",
        "\n"
      ],
      "metadata": {
        "id": "JkKrt9fcToO6"
      }
    },
    {
      "cell_type": "markdown",
      "source": [
        "#2) 2 manières  intelligentes de redéfinir is_anagram()"
      ],
      "metadata": {
        "id": "eQB02VIuWH7I"
      }
    },
    {
      "cell_type": "code",
      "source": [
        "# Utiliser un compteur\n",
        "\n",
        "from collections import Counter\n",
        "\n",
        "def is_anagram(w1, w2):\n",
        "    return Counter(w1) == Counter(w2)"
      ],
      "metadata": {
        "id": "kdcFqMPWWWld"
      },
      "execution_count": null,
      "outputs": []
    },
    {
      "cell_type": "code",
      "source": [
        "# Trier les chaînes !\n",
        "\n",
        "def is_anagram(w1, w2):\n",
        "    return sorted(w1) == sorted(w2)"
      ],
      "metadata": {
        "id": "vVR5XhEbWHLB"
      },
      "execution_count": null,
      "outputs": []
    },
    {
      "cell_type": "markdown",
      "source": [
        "Problème : coûteux en ressources !\n",
        "\n",
        "Idée pour accélérer ; un dictionnaire de compteurs !"
      ],
      "metadata": {
        "id": "GNCOvyiNWs9a"
      }
    },
    {
      "cell_type": "markdown",
      "source": [
        "# 3) le trick ultime ; un dictionnaire de compteurs"
      ],
      "metadata": {
        "id": "QSr6er3pWzmk"
      }
    },
    {
      "cell_type": "code",
      "source": [
        "def groupAnagrams( strs):\n",
        "        \"\"\"\n",
        "        :type strs: List[str]\n",
        "        :rtype: List[List[str]]\n",
        "        \"\"\"\n",
        "\n",
        "        wd_to_counter = {word: Counter(word) for word in strs}\n",
        "\n",
        "        anagram_lists = [[strs[0]]]\n",
        "        for word in strs[1:]:\n",
        "            found = False\n",
        "            for group in anagram_lists :\n",
        "                if wd_to_counter[word] == wd_to_counter[group[0]]  :\n",
        "                    group.append(word)\n",
        "                    found = True\n",
        "                    break\n",
        "            if not found :\n",
        "                anagram_lists.append([word])\n",
        "\n",
        "\n",
        "        return anagram_lists"
      ],
      "metadata": {
        "id": "F__AM4CFdJmp"
      },
      "execution_count": null,
      "outputs": []
    },
    {
      "cell_type": "markdown",
      "source": [
        "# 4) Optimal avec élégance"
      ],
      "metadata": {
        "id": "j8MERj_Mdr4E"
      }
    },
    {
      "cell_type": "code",
      "source": [
        "def groupAnagrams( strs):\n",
        "\n",
        "\n",
        "        anagrams = {}\n",
        "\n",
        "        for word in strs:\n",
        "\n",
        "            sorted_word = ''.join(sorted(word))\n",
        "\n",
        "            if sorted_word in anagrams:\n",
        "                anagrams[sorted_word].append(word)\n",
        "            else:\n",
        "\n",
        "                anagrams[sorted_word] = [word]\n",
        "\n",
        "\n",
        "        return list(anagrams.values())"
      ],
      "metadata": {
        "id": "5MUpFirkduWj"
      },
      "execution_count": null,
      "outputs": []
    },
    {
      "cell_type": "markdown",
      "source": [
        "=> Pas de données stockées\n",
        "=> une opération de tri de O(nlogn) par mot\n",
        "donc complexité finale de O(n2logn) sans mémoire prise"
      ],
      "metadata": {
        "id": "8iZf_MSleAom"
      }
    }
  ]
}