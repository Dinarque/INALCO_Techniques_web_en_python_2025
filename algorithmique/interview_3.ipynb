{
  "nbformat": 4,
  "nbformat_minor": 0,
  "metadata": {
    "colab": {
      "provenance": [],
      "authorship_tag": "ABX9TyOnViL/OYHwOeXjXtPfVFel",
      "include_colab_link": true
    },
    "kernelspec": {
      "name": "python3",
      "display_name": "Python 3"
    },
    "language_info": {
      "name": "python"
    }
  },
  "cells": [
    {
      "cell_type": "markdown",
      "metadata": {
        "id": "view-in-github",
        "colab_type": "text"
      },
      "source": [
        "<a href=\"https://colab.research.google.com/github/Dinarque/INALCO_Inalco_M2_langage_de_scripts_2024_eleves/blob/main/algorithmique/interview_3.ipynb\" target=\"_parent\"><img src=\"https://colab.research.google.com/assets/colab-badge.svg\" alt=\"Open In Colab\"/></a>"
      ]
    },
    {
      "cell_type": "markdown",
      "source": [
        "# Interview 3\n",
        "\n",
        "Longest Palindromic Substring\n",
        "\n",
        "Given a string s, return the longest  palindromicsubstring in s.\n",
        "\n",
        "NB ; un palindrome est un mot qui peut se lire dans les deux sens, comme CIC, Ressasser ..."
      ],
      "metadata": {
        "id": "S0pp9vkSJhnt"
      }
    },
    {
      "cell_type": "code",
      "source": [
        "s1 = \"iressasser\"\n",
        "s2 = \"babad\"\n",
        "s3 =  \"cbbd\"\n",
        "s4 = \"a\""
      ],
      "metadata": {
        "id": "F305n1BEMNfd"
      },
      "execution_count": 3,
      "outputs": []
    },
    {
      "cell_type": "markdown",
      "source": [
        "# Solution 1 : bourrin\n",
        "\n",
        "on parcourt la liste deux fois et fais le test du palindrome sur toutes les substrings possibles"
      ],
      "metadata": {
        "id": "5s8YWhzWMC3F"
      }
    },
    {
      "cell_type": "code",
      "execution_count": 6,
      "metadata": {
        "id": "lPmQ2jFvJfhp"
      },
      "outputs": [],
      "source": [
        "def is_palindrome(substring):\n",
        "\n",
        "            for i in range(len(substring)) :\n",
        "                if substring[i] != substring[-(i+1)] :\n",
        "                    return False\n",
        "\n",
        "            return True\n",
        "\n",
        "def longestPalindrome( s):\n",
        "\n",
        "        longest = 0\n",
        "        longest_substring = \"\"\n",
        "\n",
        "        for i in range(len(s)+1) :\n",
        "            for j in range(i,len(s)+1) :\n",
        "                substring = s[i:j]\n",
        "\n",
        "                if is_palindrome(substring):\n",
        "\n",
        "                    if len(substring)>longest :\n",
        "                      longest =  len(substring)\n",
        "                      longest_substring = substring\n",
        "\n",
        "        print(longest_substring)\n",
        "        return longest_substring"
      ]
    },
    {
      "cell_type": "code",
      "source": [
        "longestPalindrome(s1)\n",
        "longestPalindrome(s2)\n",
        "longestPalindrome(s3)\n",
        "longestPalindrome(s4)"
      ],
      "metadata": {
        "colab": {
          "base_uri": "https://localhost:8080/",
          "height": 105
        },
        "id": "IRTnwApsMjCC",
        "outputId": "b116b733-d820-46b6-becc-8c21f846685b"
      },
      "execution_count": 7,
      "outputs": [
        {
          "output_type": "stream",
          "name": "stdout",
          "text": [
            "ressasser\n",
            "bab\n",
            "bb\n",
            "a\n"
          ]
        },
        {
          "output_type": "execute_result",
          "data": {
            "text/plain": [
              "'a'"
            ],
            "application/vnd.google.colaboratory.intrinsic+json": {
              "type": "string"
            }
          },
          "metadata": {},
          "execution_count": 7
        }
      ]
    },
    {
      "cell_type": "markdown",
      "source": [
        "Bien mais vraiment long : leetcode a refusé ma solution pour timeout ... on va devoir trouver mieux !\n",
        "Complexité O(n3)"
      ],
      "metadata": {
        "id": "GnVbNhQaOus5"
      }
    },
    {
      "cell_type": "markdown",
      "source": [
        "# solution 2\n",
        "\n",
        "résuire la complexité avec les astuces vues dans le problème 2"
      ],
      "metadata": {
        "id": "XpHZZYhOPT2C"
      }
    },
    {
      "cell_type": "code",
      "source": [
        "def is_palindrome(substring):\n",
        "    #  Inutile de faire le test deux fois\n",
        "    for i in range(len(substring) // 2):\n",
        "        if substring[i] != substring[-(i+1)]:\n",
        "            return False\n",
        "    return True\n",
        "\n",
        "def longestPalindrome(s):\n",
        "    n = len(s)\n",
        "    longest_substring = \"\"\n",
        "\n",
        "    # ON parcourt toutes les substrings possibles\n",
        "    for i in range(n):\n",
        "        for j in range(i, n):\n",
        "            substring = s[i:j+1]\n",
        "\n",
        "\n",
        "            if is_palindrome(substring):\n",
        "                if len(substring) > len(longest_substring):\n",
        "                    longest_substring = substring\n",
        "\n",
        "    print(longest_substring)\n",
        "    return longest_substring"
      ],
      "metadata": {
        "id": "dw3Ougv2O1uq"
      },
      "execution_count": null,
      "outputs": []
    },
    {
      "cell_type": "code",
      "source": [
        "longestPalindrome(s1)\n",
        "longestPalindrome(s2)\n",
        "longestPalindrome(s3)\n",
        "longestPalindrome(s4)"
      ],
      "metadata": {
        "colab": {
          "base_uri": "https://localhost:8080/"
        },
        "id": "STvg6sgJOty1",
        "outputId": "921b17a6-9991-44ae-b030-91b3768c22b8"
      },
      "execution_count": null,
      "outputs": [
        {
          "output_type": "stream",
          "name": "stdout",
          "text": [
            "Longest palindrome substring is: ressasser\n",
            "Longest palindrome substring is: bab\n",
            "Longest palindrome substring is: bb\n",
            "Longest palindrome substring is: a\n"
          ]
        },
        {
          "output_type": "execute_result",
          "data": {
            "text/plain": [
              "1"
            ]
          },
          "metadata": {},
          "execution_count": 40
        }
      ]
    },
    {
      "cell_type": "markdown",
      "source": [
        "Mieux ! mais pas encore ça !"
      ],
      "metadata": {
        "id": "KZYeh1UDSAVC"
      }
    },
    {
      "cell_type": "markdown",
      "source": [
        "# Solution  3 : penser autour du centre"
      ],
      "metadata": {
        "id": "_gDJ6wIUPo_f"
      }
    },
    {
      "cell_type": "code",
      "source": [
        "def expand_around_center(s, left, right):\n",
        "          # renvoie le plus long palindrome à partir d un caractere , O(n)\n",
        "            while left >= 0 and right < len(s) and s[left] == s[right]:\n",
        "                left -= 1\n",
        "                right += 1\n",
        "            return s[left + 1:right]\n",
        "\n",
        "\n",
        "def longestPalindrome( s):\n",
        "\n",
        "        if not s:\n",
        "            return \"\"\n",
        "\n",
        "        longest_substring = \"\"\n",
        "\n",
        "        for i in range(len(s)):\n",
        "            # distinction des cas pairs et impairs\n",
        "            odd_palindrome = expand_around_center(s,i, i)\n",
        "            even_palindrome = expand_around_center(s,i, i + 1)\n",
        "\n",
        "            longest_substring = max(longest_substring, odd_palindrome, even_palindrome, key=len)\n",
        "\n",
        "        print(longest_substring)\n",
        "        return longest_substring\n",
        "\n",
        "# Complexité O(n2)"
      ],
      "metadata": {
        "id": "7Wghi40iSK-N"
      },
      "execution_count": null,
      "outputs": []
    },
    {
      "cell_type": "code",
      "source": [
        "longestPalindrome(s1)\n",
        "longestPalindrome(s2)\n",
        "longestPalindrome(s3)\n",
        "longestPalindrome(s4)"
      ],
      "metadata": {
        "colab": {
          "base_uri": "https://localhost:8080/",
          "height": 105
        },
        "id": "D0rxVVu0SqlM",
        "outputId": "3fe26ad0-9446-44a3-9837-8a283468fe4c"
      },
      "execution_count": null,
      "outputs": [
        {
          "output_type": "stream",
          "name": "stdout",
          "text": [
            "ressasser\n",
            "bab\n",
            "bb\n",
            "a\n"
          ]
        },
        {
          "output_type": "execute_result",
          "data": {
            "text/plain": [
              "'a'"
            ],
            "application/vnd.google.colaboratory.intrinsic+json": {
              "type": "string"
            }
          },
          "metadata": {},
          "execution_count": 49
        }
      ]
    },
    {
      "cell_type": "markdown",
      "source": [
        "Complexite O(n2)"
      ],
      "metadata": {
        "id": "Qif06K_yS4Vm"
      }
    }
  ]
}