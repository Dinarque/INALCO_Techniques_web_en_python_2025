{
  "nbformat": 4,
  "nbformat_minor": 0,
  "metadata": {
    "colab": {
      "provenance": [],
      "authorship_tag": "ABX9TyMju/IRLdWUMNsUj+a4HJu2",
      "include_colab_link": true
    },
    "kernelspec": {
      "name": "python3",
      "display_name": "Python 3"
    },
    "language_info": {
      "name": "python"
    }
  },
  "cells": [
    {
      "cell_type": "markdown",
      "metadata": {
        "id": "view-in-github",
        "colab_type": "text"
      },
      "source": [
        "<a href=\"https://colab.research.google.com/github/Dinarque/INALCO_Inalco_M2_langage_de_scripts_2024_eleves/blob/main/Cours/exercices_pythonismes.ipynb\" target=\"_parent\"><img src=\"https://colab.research.google.com/assets/colab-badge.svg\" alt=\"Open In Colab\"/></a>"
      ]
    },
    {
      "cell_type": "markdown",
      "source": [
        "# Python tricks : quelques exercices d'application"
      ],
      "metadata": {
        "id": "sP2QqqX_eNpN"
      }
    },
    {
      "cell_type": "markdown",
      "source": [
        "1) Créez une liste de 100 éléments qui contient les chiffres de 1 à 4 qui se répètenet en boucle"
      ],
      "metadata": {
        "id": "jaYme2freOhI"
      }
    },
    {
      "cell_type": "code",
      "execution_count": null,
      "metadata": {
        "id": "SimuWMrtVpKM",
        "colab": {
          "base_uri": "https://localhost:8080/"
        },
        "outputId": "289d3cab-8f25-4153-993d-a7c37fad362d"
      },
      "outputs": [
        {
          "output_type": "execute_result",
          "data": {
            "text/plain": [
              "[1,\n",
              " 2,\n",
              " 3,\n",
              " 4,\n",
              " 1,\n",
              " 2,\n",
              " 3,\n",
              " 4,\n",
              " 1,\n",
              " 2,\n",
              " 3,\n",
              " 4,\n",
              " 1,\n",
              " 2,\n",
              " 3,\n",
              " 4,\n",
              " 1,\n",
              " 2,\n",
              " 3,\n",
              " 4,\n",
              " 1,\n",
              " 2,\n",
              " 3,\n",
              " 4,\n",
              " 1,\n",
              " 2,\n",
              " 3,\n",
              " 4,\n",
              " 1,\n",
              " 2,\n",
              " 3,\n",
              " 4,\n",
              " 1,\n",
              " 2,\n",
              " 3,\n",
              " 4,\n",
              " 1,\n",
              " 2,\n",
              " 3,\n",
              " 4,\n",
              " 1,\n",
              " 2,\n",
              " 3,\n",
              " 4,\n",
              " 1,\n",
              " 2,\n",
              " 3,\n",
              " 4,\n",
              " 1,\n",
              " 2,\n",
              " 3,\n",
              " 4,\n",
              " 1,\n",
              " 2,\n",
              " 3,\n",
              " 4,\n",
              " 1,\n",
              " 2,\n",
              " 3,\n",
              " 4,\n",
              " 1,\n",
              " 2,\n",
              " 3,\n",
              " 4,\n",
              " 1,\n",
              " 2,\n",
              " 3,\n",
              " 4,\n",
              " 1,\n",
              " 2,\n",
              " 3,\n",
              " 4,\n",
              " 1,\n",
              " 2,\n",
              " 3,\n",
              " 4,\n",
              " 1,\n",
              " 2,\n",
              " 3,\n",
              " 4,\n",
              " 1,\n",
              " 2,\n",
              " 3,\n",
              " 4,\n",
              " 1,\n",
              " 2,\n",
              " 3,\n",
              " 4,\n",
              " 1,\n",
              " 2,\n",
              " 3,\n",
              " 4,\n",
              " 1,\n",
              " 2,\n",
              " 3,\n",
              " 4,\n",
              " 1,\n",
              " 2,\n",
              " 3,\n",
              " 4]"
            ]
          },
          "metadata": {},
          "execution_count": 2
        }
      ],
      "source": [
        "list(range(1,5))*25"
      ]
    },
    {
      "cell_type": "markdown",
      "source": [
        "2) En une ligne de code, retournez la liste des nombres pairs présents dans la liste suivante"
      ],
      "metadata": {
        "id": "YCXaHOf_bmae"
      }
    },
    {
      "cell_type": "code",
      "source": [
        "liste = [1,25,4,6,8,95,32,65,45,54,1,7,2,0]\n",
        "[i for i in liste if not i%2]"
      ],
      "metadata": {
        "id": "KR4zx0C6VsLb",
        "colab": {
          "base_uri": "https://localhost:8080/"
        },
        "outputId": "8b2caff5-1099-4d72-8212-cd250e6a6e33"
      },
      "execution_count": null,
      "outputs": [
        {
          "output_type": "execute_result",
          "data": {
            "text/plain": [
              "[4, 6, 8, 32, 54, 2, 0]"
            ]
          },
          "metadata": {},
          "execution_count": 4
        }
      ]
    },
    {
      "cell_type": "markdown",
      "source": [
        "3) En utilisant une fonction lambda, transformez la liste suivante en mots en majuscules"
      ],
      "metadata": {
        "id": "4uG2dphMydRn"
      }
    },
    {
      "cell_type": "code",
      "source": [
        "liste = [\"chacal\",\"renard\",\"caribou\",\"chat\",\"boucanal\"]\n",
        "list(map(lambda x:x.upper(), liste))"
      ],
      "metadata": {
        "id": "rB6DPlSxycl-",
        "colab": {
          "base_uri": "https://localhost:8080/"
        },
        "outputId": "2fe43485-326e-4c0f-ff5e-f40001469538"
      },
      "execution_count": null,
      "outputs": [
        {
          "output_type": "execute_result",
          "data": {
            "text/plain": [
              "['CHACAL', 'RENARD', 'CARIBOU', 'CHAT', 'BOUCANAL']"
            ]
          },
          "metadata": {},
          "execution_count": 5
        }
      ]
    },
    {
      "cell_type": "markdown",
      "source": [
        "4) Ecrire ***en une ligne de code *** un dictionnaire qui attribue à un mot dans une liste son index dans une liste de mots"
      ],
      "metadata": {
        "id": "vNaaNkJDVsgr"
      }
    },
    {
      "cell_type": "code",
      "source": [
        "liste = [\"chacal\",\"renard\",\"caribou\",\"chat\",\"boucanal\"]\n",
        "{i:x for x,i in enumerate(liste)}"
      ],
      "metadata": {
        "id": "L4c-P5VvV7Q1",
        "colab": {
          "base_uri": "https://localhost:8080/"
        },
        "outputId": "796bc4d3-cdc1-4ab2-b866-d45ed3ff4b20"
      },
      "execution_count": null,
      "outputs": [
        {
          "output_type": "execute_result",
          "data": {
            "text/plain": [
              "{'chacal': 0, 'renard': 1, 'caribou': 2, 'chat': 3, 'boucanal': 4}"
            ]
          },
          "metadata": {},
          "execution_count": 8
        }
      ]
    },
    {
      "cell_type": "markdown",
      "source": [
        "5) En **Une seule ligne de code** combinez deux listes de taille égale en un dicitonnaire"
      ],
      "metadata": {
        "id": "VkcF7fmhapsJ"
      }
    },
    {
      "cell_type": "code",
      "source": [
        "liste_cles = ['a', 'b', 'c']\n",
        "liste_valeurs = [1, 2, 3]\n",
        "dic = dict(zip(liste_cles, liste_valeurs))\n",
        "dic"
      ],
      "metadata": {
        "id": "-dc-oog0axkz",
        "colab": {
          "base_uri": "https://localhost:8080/"
        },
        "outputId": "a3ccb659-3599-4f0a-aa94-ed46b5b0184a"
      },
      "execution_count": null,
      "outputs": [
        {
          "output_type": "execute_result",
          "data": {
            "text/plain": [
              "{'a': 1, 'b': 2, 'c': 3}"
            ]
          },
          "metadata": {},
          "execution_count": 10
        }
      ]
    },
    {
      "cell_type": "markdown",
      "source": [
        "6) sélectionnez d'un coup le premier et le dernier animal du tuple sans utiliser de slicing / de crochet"
      ],
      "metadata": {
        "id": "u5_sFJlQyw3D"
      }
    },
    {
      "cell_type": "code",
      "source": [
        "tupl = (\"chacal\",\"renard\",\"caribou\",\"chat\",\"boucanal\")\n",
        "\n",
        "first, *middle, last = tupl"
      ],
      "metadata": {
        "id": "H2--4WwWzPPr"
      },
      "execution_count": null,
      "outputs": []
    },
    {
      "cell_type": "markdown",
      "source": [
        "7) écrire un programme qui renvoie la liste des indices des éléments pairs et la liste des éléments impairs d'une liste"
      ],
      "metadata": {
        "id": "sGsURVa0zj_b"
      }
    },
    {
      "cell_type": "code",
      "source": [
        "liste = [1,25,4,6,8,95,32,65,45,54,1,7,2,0]\n",
        "\n",
        "(lambda x : ([i for i,j in enumerate(x) if i%2] ,[i for i,j in enumerate(x) if not i%2])) (liste)"
      ],
      "metadata": {
        "id": "hRXXuaORyxAh",
        "colab": {
          "base_uri": "https://localhost:8080/"
        },
        "outputId": "24aa8743-6dba-4ee9-e5d0-0dc263fbe329"
      },
      "execution_count": null,
      "outputs": [
        {
          "output_type": "execute_result",
          "data": {
            "text/plain": [
              "([1, 3, 5, 7, 9, 11, 13], [0, 2, 4, 6, 8, 10, 12])"
            ]
          },
          "metadata": {},
          "execution_count": 15
        }
      ]
    },
    {
      "cell_type": "markdown",
      "source": [
        "8) écris une fonction qui prend en entrée un dictionnaire associant un caractère à son nombre d'occurrence et renvoie une guirlande de ces caractères séparés par \"_\".\n",
        "Indice : il faut utiliser DEUX pythonismes."
      ],
      "metadata": {
        "id": "F9puoDNe1eQj"
      }
    },
    {
      "cell_type": "code",
      "source": [
        "dic = {\"!\": 8, \"*\": 5, \"?\":2}\n",
        "print(\"_\".join([k for k, v in dic.items() for _ in range(v)]))"
      ],
      "metadata": {
        "id": "uyOHl3H32FU3",
        "outputId": "033999cf-743d-41cf-fb1f-887f2178a1da",
        "colab": {
          "base_uri": "https://localhost:8080/"
        }
      },
      "execution_count": 10,
      "outputs": [
        {
          "output_type": "stream",
          "name": "stdout",
          "text": [
            "!_!_!_!_!_!_!_!_*_*_*_*_*_?_?\n"
          ]
        }
      ]
    },
    {
      "cell_type": "markdown",
      "source": [
        "9)  filtrer le dictionnaire de sorte à ne garder que les paires où la longueur de la clé est strictement supérieure à la valeur associée"
      ],
      "metadata": {
        "id": "Alt6_e9t23Qc"
      }
    },
    {
      "cell_type": "code",
      "source": [
        "dictionnaire = {\n",
        "    \"éléphant\": 3,\n",
        "    \"chat\": 5,\n",
        "    \"crocodile\": 7,\n",
        "    \"chien\": 4,\n",
        "    \"girafe\": 6\n",
        "}\n",
        "\n",
        "dic = {k : v for k, v in dictionnaire.items() if len(k)>v}\n",
        "print(dic)\n",
        "\n",
        "liste_tuples = [(\"pomme\", 10), (\"banane\", 5), (\"cerise\", 12), (\"datte\", 7)]\n"
      ],
      "metadata": {
        "id": "7iUF0E7T241r",
        "outputId": "d80bd542-a2f7-464c-ce7a-8bdb185c829d",
        "colab": {
          "base_uri": "https://localhost:8080/"
        }
      },
      "execution_count": 1,
      "outputs": [
        {
          "output_type": "stream",
          "name": "stdout",
          "text": [
            "{'éléphant': 3, 'crocodile': 7, 'chien': 4}\n"
          ]
        }
      ]
    },
    {
      "cell_type": "markdown",
      "source": [
        "10) La liste de tuples contient le prix au kilo de certains fruits.\n",
        "Trier cette liste selon le prix par ordre croissant"
      ],
      "metadata": {
        "id": "1BTWX3VB3SR9"
      }
    },
    {
      "cell_type": "code",
      "source": [
        "liste_tuples = [(\"pomme\", 10), (\"banane\", 5), (\"cerise\", 12), (\"datte\", 7)]\n",
        "sorted_liste = sorted(liste_tuples, key=lambda x: x[1])\n",
        "print(sorted_liste)"
      ],
      "metadata": {
        "id": "qphnY0ET1eYx",
        "outputId": "b9119cbc-c4cf-41a0-9338-272bde9f74a8",
        "colab": {
          "base_uri": "https://localhost:8080/"
        }
      },
      "execution_count": 12,
      "outputs": [
        {
          "output_type": "stream",
          "name": "stdout",
          "text": [
            "[('banane', 5), ('datte', 7), ('pomme', 10), ('cerise', 12)]\n"
          ]
        }
      ]
    }
  ]
}