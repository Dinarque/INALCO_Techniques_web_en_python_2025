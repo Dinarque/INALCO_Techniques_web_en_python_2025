{
  "nbformat": 4,
  "nbformat_minor": 0,
  "metadata": {
    "colab": {
      "provenance": [],
      "authorship_tag": "ABX9TyOAoJPqEepZZtH3vzPeg3h8",
      "include_colab_link": true
    },
    "kernelspec": {
      "name": "python3",
      "display_name": "Python 3"
    },
    "language_info": {
      "name": "python"
    }
  },
  "cells": [
    {
      "cell_type": "markdown",
      "metadata": {
        "id": "view-in-github",
        "colab_type": "text"
      },
      "source": [
        "<a href=\"https://colab.research.google.com/github/Dinarque/INALCO_Inalco_M2_langage_de_scripts_2024_eleves/blob/main/Cours/Les_pandas_du_titanic_eleve.ipynb\" target=\"_parent\"><img src=\"https://colab.research.google.com/assets/colab-badge.svg\" alt=\"Open In Colab\"/></a>"
      ]
    },
    {
      "cell_type": "markdown",
      "source": [
        "# Exercice sur Pandas : analysons un grand classique parmi les datasets : les victimes du Titanic\n",
        "\n",
        "Le dataset peut être trouvé https://github.com/datasciencedojo/datasets/blob/master/titanic.csv"
      ],
      "metadata": {
        "id": "TD2p0ib2oIlC"
      }
    },
    {
      "cell_type": "markdown",
      "source": [
        "1) Chargez le dataset"
      ],
      "metadata": {
        "id": "nk9_8tgZo4RO"
      }
    },
    {
      "cell_type": "markdown",
      "source": [
        "2) Afficher des infos élémentaires sur le dataset"
      ],
      "metadata": {
        "id": "9W0QElC1pIyB"
      }
    },
    {
      "cell_type": "markdown",
      "source": [
        "3) Combien de passagers ont survécu ? combien sont morts ? Donnez la réponse en pourcentage aussi."
      ],
      "metadata": {
        "id": "eSMHQcSkpYLW"
      }
    },
    {
      "cell_type": "markdown",
      "source": [
        "4) Quel était l'âge moyen des passagers ?"
      ],
      "metadata": {
        "id": "kdT499-5psFc"
      }
    },
    {
      "cell_type": "markdown",
      "source": [
        "5) Listez les passagers qui ont payé le tarif le plus élevé"
      ],
      "metadata": {
        "id": "DUxOwr4UpxBa"
      }
    },
    {
      "cell_type": "markdown",
      "source": [
        "6) Dessinez un pie chart représentant le genre des passager"
      ],
      "metadata": {
        "id": "yYw85ko_p5V0"
      }
    },
    {
      "cell_type": "markdown",
      "source": [
        "7) Calculer le taux de survie par genre"
      ],
      "metadata": {
        "id": "13d4MKqeqJf9"
      }
    },
    {
      "cell_type": "markdown",
      "source": [
        "8) Trouver la répartition des classes des passagers"
      ],
      "metadata": {
        "id": "ompX1wC8qPit"
      }
    },
    {
      "cell_type": "markdown",
      "source": [
        "9)Calculer le taux de survie par classe"
      ],
      "metadata": {
        "id": "-vL-Fdg3qUmQ"
      }
    },
    {
      "cell_type": "markdown",
      "source": [
        "10) quels étaient les 10 prénoms masculins et les 10 prénoms féminins les plus fréquents ?"
      ],
      "metadata": {
        "id": "A7miF93Hqhc1"
      }
    }
  ]
}